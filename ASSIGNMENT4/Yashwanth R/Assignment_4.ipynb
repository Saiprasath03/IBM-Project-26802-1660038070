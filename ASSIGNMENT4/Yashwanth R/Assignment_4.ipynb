{
  "nbformat": 4,
  "nbformat_minor": 0,
  "metadata": {
    "colab": {
      "provenance": []
    },
    "kernelspec": {
      "name": "python3",
      "display_name": "Python 3"
    },
    "language_info": {
      "name": "python"
    }
  },
  "cells": [
    {
      "cell_type": "code",
      "execution_count": 2,
      "metadata": {
        "id": "xD0aZRWtY9TS"
      },
      "outputs": [],
      "source": [
        "import numpy as np\n",
        "import pandas as pd\n",
        "import matplotlib.pyplot as plt\n",
        "import seaborn as sns"
      ]
    },
    {
      "cell_type": "code",
      "source": [
        "df=pd.read_csv(\"/Mall_Customers.csv\")"
      ],
      "metadata": {
        "id": "nZoqtxogZwnY"
      },
      "execution_count": 3,
      "outputs": []
    },
    {
      "cell_type": "code",
      "source": [
        "df.head()"
      ],
      "metadata": {
        "colab": {
          "base_uri": "https://localhost:8080/",
          "height": 206
        },
        "id": "HvrLbCieaHmk",
        "outputId": "b0e4f4aa-52dc-4ef5-8bd0-e92ac2b3218a"
      },
      "execution_count": 4,
      "outputs": [
        {
          "output_type": "execute_result",
          "data": {
            "text/plain": [
              "   CustomerID  Gender  Age  Annual Income (k$)  Spending Score (1-100)\n",
              "0           1    Male   19                  15                      39\n",
              "1           2    Male   21                  15                      81\n",
              "2           3  Female   20                  16                       6\n",
              "3           4  Female   23                  16                      77\n",
              "4           5  Female   31                  17                      40"
            ],
            "text/html": [
              "\n",
              "  <div id=\"df-5f410a53-8566-4c6a-b0ea-09988aa20f99\">\n",
              "    <div class=\"colab-df-container\">\n",
              "      <div>\n",
              "<style scoped>\n",
              "    .dataframe tbody tr th:only-of-type {\n",
              "        vertical-align: middle;\n",
              "    }\n",
              "\n",
              "    .dataframe tbody tr th {\n",
              "        vertical-align: top;\n",
              "    }\n",
              "\n",
              "    .dataframe thead th {\n",
              "        text-align: right;\n",
              "    }\n",
              "</style>\n",
              "<table border=\"1\" class=\"dataframe\">\n",
              "  <thead>\n",
              "    <tr style=\"text-align: right;\">\n",
              "      <th></th>\n",
              "      <th>CustomerID</th>\n",
              "      <th>Gender</th>\n",
              "      <th>Age</th>\n",
              "      <th>Annual Income (k$)</th>\n",
              "      <th>Spending Score (1-100)</th>\n",
              "    </tr>\n",
              "  </thead>\n",
              "  <tbody>\n",
              "    <tr>\n",
              "      <th>0</th>\n",
              "      <td>1</td>\n",
              "      <td>Male</td>\n",
              "      <td>19</td>\n",
              "      <td>15</td>\n",
              "      <td>39</td>\n",
              "    </tr>\n",
              "    <tr>\n",
              "      <th>1</th>\n",
              "      <td>2</td>\n",
              "      <td>Male</td>\n",
              "      <td>21</td>\n",
              "      <td>15</td>\n",
              "      <td>81</td>\n",
              "    </tr>\n",
              "    <tr>\n",
              "      <th>2</th>\n",
              "      <td>3</td>\n",
              "      <td>Female</td>\n",
              "      <td>20</td>\n",
              "      <td>16</td>\n",
              "      <td>6</td>\n",
              "    </tr>\n",
              "    <tr>\n",
              "      <th>3</th>\n",
              "      <td>4</td>\n",
              "      <td>Female</td>\n",
              "      <td>23</td>\n",
              "      <td>16</td>\n",
              "      <td>77</td>\n",
              "    </tr>\n",
              "    <tr>\n",
              "      <th>4</th>\n",
              "      <td>5</td>\n",
              "      <td>Female</td>\n",
              "      <td>31</td>\n",
              "      <td>17</td>\n",
              "      <td>40</td>\n",
              "    </tr>\n",
              "  </tbody>\n",
              "</table>\n",
              "</div>\n",
              "      <button class=\"colab-df-convert\" onclick=\"convertToInteractive('df-5f410a53-8566-4c6a-b0ea-09988aa20f99')\"\n",
              "              title=\"Convert this dataframe to an interactive table.\"\n",
              "              style=\"display:none;\">\n",
              "        \n",
              "  <svg xmlns=\"http://www.w3.org/2000/svg\" height=\"24px\"viewBox=\"0 0 24 24\"\n",
              "       width=\"24px\">\n",
              "    <path d=\"M0 0h24v24H0V0z\" fill=\"none\"/>\n",
              "    <path d=\"M18.56 5.44l.94 2.06.94-2.06 2.06-.94-2.06-.94-.94-2.06-.94 2.06-2.06.94zm-11 1L8.5 8.5l.94-2.06 2.06-.94-2.06-.94L8.5 2.5l-.94 2.06-2.06.94zm10 10l.94 2.06.94-2.06 2.06-.94-2.06-.94-.94-2.06-.94 2.06-2.06.94z\"/><path d=\"M17.41 7.96l-1.37-1.37c-.4-.4-.92-.59-1.43-.59-.52 0-1.04.2-1.43.59L10.3 9.45l-7.72 7.72c-.78.78-.78 2.05 0 2.83L4 21.41c.39.39.9.59 1.41.59.51 0 1.02-.2 1.41-.59l7.78-7.78 2.81-2.81c.8-.78.8-2.07 0-2.86zM5.41 20L4 18.59l7.72-7.72 1.47 1.35L5.41 20z\"/>\n",
              "  </svg>\n",
              "      </button>\n",
              "      \n",
              "  <style>\n",
              "    .colab-df-container {\n",
              "      display:flex;\n",
              "      flex-wrap:wrap;\n",
              "      gap: 12px;\n",
              "    }\n",
              "\n",
              "    .colab-df-convert {\n",
              "      background-color: #E8F0FE;\n",
              "      border: none;\n",
              "      border-radius: 50%;\n",
              "      cursor: pointer;\n",
              "      display: none;\n",
              "      fill: #1967D2;\n",
              "      height: 32px;\n",
              "      padding: 0 0 0 0;\n",
              "      width: 32px;\n",
              "    }\n",
              "\n",
              "    .colab-df-convert:hover {\n",
              "      background-color: #E2EBFA;\n",
              "      box-shadow: 0px 1px 2px rgba(60, 64, 67, 0.3), 0px 1px 3px 1px rgba(60, 64, 67, 0.15);\n",
              "      fill: #174EA6;\n",
              "    }\n",
              "\n",
              "    [theme=dark] .colab-df-convert {\n",
              "      background-color: #3B4455;\n",
              "      fill: #D2E3FC;\n",
              "    }\n",
              "\n",
              "    [theme=dark] .colab-df-convert:hover {\n",
              "      background-color: #434B5C;\n",
              "      box-shadow: 0px 1px 3px 1px rgba(0, 0, 0, 0.15);\n",
              "      filter: drop-shadow(0px 1px 2px rgba(0, 0, 0, 0.3));\n",
              "      fill: #FFFFFF;\n",
              "    }\n",
              "  </style>\n",
              "\n",
              "      <script>\n",
              "        const buttonEl =\n",
              "          document.querySelector('#df-5f410a53-8566-4c6a-b0ea-09988aa20f99 button.colab-df-convert');\n",
              "        buttonEl.style.display =\n",
              "          google.colab.kernel.accessAllowed ? 'block' : 'none';\n",
              "\n",
              "        async function convertToInteractive(key) {\n",
              "          const element = document.querySelector('#df-5f410a53-8566-4c6a-b0ea-09988aa20f99');\n",
              "          const dataTable =\n",
              "            await google.colab.kernel.invokeFunction('convertToInteractive',\n",
              "                                                     [key], {});\n",
              "          if (!dataTable) return;\n",
              "\n",
              "          const docLinkHtml = 'Like what you see? Visit the ' +\n",
              "            '<a target=\"_blank\" href=https://colab.research.google.com/notebooks/data_table.ipynb>data table notebook</a>'\n",
              "            + ' to learn more about interactive tables.';\n",
              "          element.innerHTML = '';\n",
              "          dataTable['output_type'] = 'display_data';\n",
              "          await google.colab.output.renderOutput(dataTable, element);\n",
              "          const docLink = document.createElement('div');\n",
              "          docLink.innerHTML = docLinkHtml;\n",
              "          element.appendChild(docLink);\n",
              "        }\n",
              "      </script>\n",
              "    </div>\n",
              "  </div>\n",
              "  "
            ]
          },
          "metadata": {},
          "execution_count": 4
        }
      ]
    },
    {
      "cell_type": "code",
      "source": [
        "#Univariate Analysis\n",
        "df[\"Annual Income (k$)\"].plot(kind='hist');"
      ],
      "metadata": {
        "colab": {
          "base_uri": "https://localhost:8080/",
          "height": 265
        },
        "id": "4qPUBkgJaKvf",
        "outputId": "1bd47c6f-66b0-4070-cdc4-c1a64d94731f"
      },
      "execution_count": 7,
      "outputs": [
        {
          "output_type": "display_data",
          "data": {
            "text/plain": [
              "<Figure size 432x288 with 1 Axes>"
            ],
            "image/png": "[encoded data removed]"
          },
          "metadata": {
            "needs_background": "light"
          }
        }
      ]
    },
    {
      "cell_type": "code",
      "source": [
        "#Bi-Variate Analysis\n",
        "cy=df[df.Gender\t==\"Male\"].Age\n",
        "cn=df[df.Gender==\"Female\"].Age\n",
        "plt.xlabel(\"Age\")\n",
        "plt.ylabel(\"No of peoples\")\n",
        "plt.hist([cy,cn],color=['blue','red'],label=[\"Height=yes\"])\n",
        "plt.show()"
      ],
      "metadata": {
        "colab": {
          "base_uri": "https://localhost:8080/",
          "height": 368
        },
        "id": "2TlbTfhSad15",
        "outputId": "de66d07c-81ab-407c-fc56-1e1cb34de27c"
      },
      "execution_count": 10,
      "outputs": [
        {
          "output_type": "stream",
          "name": "stderr",
          "text": [
            "/usr/local/lib/python3.7/dist-packages/numpy/core/fromnumeric.py:3208: VisibleDeprecationWarning: Creating an ndarray from ragged nested sequences (which is a list-or-tuple of lists-or-tuples-or ndarrays with different lengths or shapes) is deprecated. If you meant to do this, you must specify 'dtype=object' when creating the ndarray.\n",
            "  return asarray(a).size\n",
            "/usr/local/lib/python3.7/dist-packages/matplotlib/cbook/__init__.py:1376: VisibleDeprecationWarning: Creating an ndarray from ragged nested sequences (which is a list-or-tuple of lists-or-tuples-or ndarrays with different lengths or shapes) is deprecated. If you meant to do this, you must specify 'dtype=object' when creating the ndarray.\n",
            "  X = np.atleast_1d(X.T if isinstance(X, np.ndarray) else np.asarray(X))\n"
          ]
        },
        {
          "output_type": "display_data",
          "data": {
            "text/plain": [
              "<Figure size 432x288 with 1 Axes>"
            ],
            "image/png": "[encoded data removed]"
          },
          "metadata": {
            "needs_background": "light"
          }
        }
      ]
    },
    {
      "cell_type": "code",
      "source": [
        "#Multi-variate Analysis\n",
        "sns.pairplot(df)"
      ],
      "metadata": {
        "colab": {
          "base_uri": "https://localhost:8080/",
          "height": 743
        },
        "id": "xuTfYYTdbuYv",
        "outputId": "68f75451-4721-4a3e-ac42-e225544568e0"
      },
      "execution_count": 11,
      "outputs": [
        {
          "output_type": "execute_result",
          "data": {
            "text/plain": [
              "<seaborn.axisgrid.PairGrid at 0x7f7df51c5750>"
            ]
          },
          "metadata": {},
          "execution_count": 11
        },
        {
          "output_type": "display_data",
          "data": {
            "text/plain": [
              "<Figure size 720x720 with 20 Axes>"
            ],
            "image/png": "[encoded data removed]"
          },
          "metadata": {
            "needs_background": "light"
          }
        }
      ]
    },
    {
      "cell_type": "code",
      "source": [
        "#Descriptive statistics\n",
        "df.describe()"
      ],
      "metadata": {
        "colab": {
          "base_uri": "https://localhost:8080/",
          "height": 300
        },
        "id": "CbNwQSAPb0r3",
        "outputId": "2a60d679-a9b7-4b8b-ee98-e685bea9ff54"
      },
      "execution_count": 12,
      "outputs": [
        {
          "output_type": "execute_result",
          "data": {
            "text/plain": [
              "       CustomerID         Age  Annual Income (k$)  Spending Score (1-100)\n",
              "count  200.000000  200.000000          200.000000              200.000000\n",
              "mean   100.500000   38.850000           60.560000               50.200000\n",
              "std     57.879185   13.969007           26.264721               25.823522\n",
              "min      1.000000   18.000000           15.000000                1.000000\n",
              "25%     50.750000   28.750000           41.500000               34.750000\n",
              "50%    100.500000   36.000000           61.500000               50.000000\n",
              "75%    150.250000   49.000000           78.000000               73.000000\n",
              "max    200.000000   70.000000          137.000000               99.000000"
            ],
            "text/html": [
              "\n",
              "  <div id=\"df-4dd7ba0e-51e3-4d42-b427-db9e28330111\">\n",
              "    <div class=\"colab-df-container\">\n",
              "      <div>\n",
              "<style scoped>\n",
              "    .dataframe tbody tr th:only-of-type {\n",
              "        vertical-align: middle;\n",
              "    }\n",
              "\n",
              "    .dataframe tbody tr th {\n",
              "        vertical-align: top;\n",
              "    }\n",
              "\n",
              "    .dataframe thead th {\n",
              "        text-align: right;\n",
              "    }\n",
              "</style>\n",
              "<table border=\"1\" class=\"dataframe\">\n",
              "  <thead>\n",
              "    <tr style=\"text-align: right;\">\n",
              "      <th></th>\n",
              "      <th>CustomerID</th>\n",
              "      <th>Age</th>\n",
              "      <th>Annual Income (k$)</th>\n",
              "      <th>Spending Score (1-100)</th>\n",
              "    </tr>\n",
              "  </thead>\n",
              "  <tbody>\n",
              "    <tr>\n",
              "      <th>count</th>\n",
              "      <td>200.000000</td>\n",
              "      <td>200.000000</td>\n",
              "      <td>200.000000</td>\n",
              "      <td>200.000000</td>\n",
              "    </tr>\n",
              "    <tr>\n",
              "      <th>mean</th>\n",
              "      <td>100.500000</td>\n",
              "      <td>38.850000</td>\n",
              "      <td>60.560000</td>\n",
              "      <td>50.200000</td>\n",
              "    </tr>\n",
              "    <tr>\n",
              "      <th>std</th>\n",
              "      <td>57.879185</td>\n",
              "      <td>13.969007</td>\n",
              "      <td>26.264721</td>\n",
              "      <td>25.823522</td>\n",
              "    </tr>\n",
              "    <tr>\n",
              "      <th>min</th>\n",
              "      <td>1.000000</td>\n",
              "      <td>18.000000</td>\n",
              "      <td>15.000000</td>\n",
              "      <td>1.000000</td>\n",
              "    </tr>\n",
              "    <tr>\n",
              "      <th>25%</th>\n",
              "      <td>50.750000</td>\n",
              "      <td>28.750000</td>\n",
              "      <td>41.500000</td>\n",
              "      <td>34.750000</td>\n",
              "    </tr>\n",
              "    <tr>\n",
              "      <th>50%</th>\n",
              "      <td>100.500000</td>\n",
              "      <td>36.000000</td>\n",
              "      <td>61.500000</td>\n",
              "      <td>50.000000</td>\n",
              "    </tr>\n",
              "    <tr>\n",
              "      <th>75%</th>\n",
              "      <td>150.250000</td>\n",
              "      <td>49.000000</td>\n",
              "      <td>78.000000</td>\n",
              "      <td>73.000000</td>\n",
              "    </tr>\n",
              "    <tr>\n",
              "      <th>max</th>\n",
              "      <td>200.000000</td>\n",
              "      <td>70.000000</td>\n",
              "      <td>137.000000</td>\n",
              "      <td>99.000000</td>\n",
              "    </tr>\n",
              "  </tbody>\n",
              "</table>\n",
              "</div>\n",
              "      <button class=\"colab-df-convert\" onclick=\"convertToInteractive('df-4dd7ba0e-51e3-4d42-b427-db9e28330111')\"\n",
              "              title=\"Convert this dataframe to an interactive table.\"\n",
              "              style=\"display:none;\">\n",
              "        \n",
              "  <svg xmlns=\"http://www.w3.org/2000/svg\" height=\"24px\"viewBox=\"0 0 24 24\"\n",
              "       width=\"24px\">\n",
              "    <path d=\"M0 0h24v24H0V0z\" fill=\"none\"/>\n",
              "    <path d=\"M18.56 5.44l.94 2.06.94-2.06 2.06-.94-2.06-.94-.94-2.06-.94 2.06-2.06.94zm-11 1L8.5 8.5l.94-2.06 2.06-.94-2.06-.94L8.5 2.5l-.94 2.06-2.06.94zm10 10l.94 2.06.94-2.06 2.06-.94-2.06-.94-.94-2.06-.94 2.06-2.06.94z\"/><path d=\"M17.41 7.96l-1.37-1.37c-.4-.4-.92-.59-1.43-.59-.52 0-1.04.2-1.43.59L10.3 9.45l-7.72 7.72c-.78.78-.78 2.05 0 2.83L4 21.41c.39.39.9.59 1.41.59.51 0 1.02-.2 1.41-.59l7.78-7.78 2.81-2.81c.8-.78.8-2.07 0-2.86zM5.41 20L4 18.59l7.72-7.72 1.47 1.35L5.41 20z\"/>\n",
              "  </svg>\n",
              "      </button>\n",
              "      \n",
              "  <style>\n",
              "    .colab-df-container {\n",
              "      display:flex;\n",
              "      flex-wrap:wrap;\n",
              "      gap: 12px;\n",
              "    }\n",
              "\n",
              "    .colab-df-convert {\n",
              "      background-color: #E8F0FE;\n",
              "      border: none;\n",
              "      border-radius: 50%;\n",
              "      cursor: pointer;\n",
              "      display: none;\n",
              "      fill: #1967D2;\n",
              "      height: 32px;\n",
              "      padding: 0 0 0 0;\n",
              "      width: 32px;\n",
              "    }\n",
              "\n",
              "    .colab-df-convert:hover {\n",
              "      background-color: #E2EBFA;\n",
              "      box-shadow: 0px 1px 2px rgba(60, 64, 67, 0.3), 0px 1px 3px 1px rgba(60, 64, 67, 0.15);\n",
              "      fill: #174EA6;\n",
              "    }\n",
              "\n",
              "    [theme=dark] .colab-df-convert {\n",
              "      background-color: #3B4455;\n",
              "      fill: #D2E3FC;\n",
              "    }\n",
              "\n",
              "    [theme=dark] .colab-df-convert:hover {\n",
              "      background-color: #434B5C;\n",
              "      box-shadow: 0px 1px 3px 1px rgba(0, 0, 0, 0.15);\n",
              "      filter: drop-shadow(0px 1px 2px rgba(0, 0, 0, 0.3));\n",
              "      fill: #FFFFFF;\n",
              "    }\n",
              "  </style>\n",
              "\n",
              "      <script>\n",
              "        const buttonEl =\n",
              "          document.querySelector('#df-4dd7ba0e-51e3-4d42-b427-db9e28330111 button.colab-df-convert');\n",
              "        buttonEl.style.display =\n",
              "          google.colab.kernel.accessAllowed ? 'block' : 'none';\n",
              "\n",
              "        async function convertToInteractive(key) {\n",
              "          const element = document.querySelector('#df-4dd7ba0e-51e3-4d42-b427-db9e28330111');\n",
              "          const dataTable =\n",
              "            await google.colab.kernel.invokeFunction('convertToInteractive',\n",
              "                                                     [key], {});\n",
              "          if (!dataTable) return;\n",
              "\n",
              "          const docLinkHtml = 'Like what you see? Visit the ' +\n",
              "            '<a target=\"_blank\" href=https://colab.research.google.com/notebooks/data_table.ipynb>data table notebook</a>'\n",
              "            + ' to learn more about interactive tables.';\n",
              "          element.innerHTML = '';\n",
              "          dataTable['output_type'] = 'display_data';\n",
              "          await google.colab.output.renderOutput(dataTable, element);\n",
              "          const docLink = document.createElement('div');\n",
              "          docLink.innerHTML = docLinkHtml;\n",
              "          element.appendChild(docLink);\n",
              "        }\n",
              "      </script>\n",
              "    </div>\n",
              "  </div>\n",
              "  "
            ]
          },
          "metadata": {},
          "execution_count": 12
        }
      ]
    },
    {
      "cell_type": "code",
      "source": [
        "#Handle The Missing values\n",
        "df.isnull().any()"
      ],
      "metadata": {
        "colab": {
          "base_uri": "https://localhost:8080/"
        },
        "id": "Kw_khcR0b5he",
        "outputId": "84e0f723-2e3e-481b-a3c9-67636080e221"
      },
      "execution_count": 13,
      "outputs": [
        {
          "output_type": "execute_result",
          "data": {
            "text/plain": [
              "CustomerID                False\n",
              "Gender                    False\n",
              "Age                       False\n",
              "Annual Income (k$)        False\n",
              "Spending Score (1-100)    False\n",
              "dtype: bool"
            ]
          },
          "metadata": {},
          "execution_count": 13
        }
      ]
    },
    {
      "cell_type": "code",
      "source": [
        "df.isnull().sum()"
      ],
      "metadata": {
        "colab": {
          "base_uri": "https://localhost:8080/"
        },
        "id": "rNyRX_LHb772",
        "outputId": "b1e364e1-250e-4609-f572-064f87261794"
      },
      "execution_count": 14,
      "outputs": [
        {
          "output_type": "execute_result",
          "data": {
            "text/plain": [
              "CustomerID                0\n",
              "Gender                    0\n",
              "Age                       0\n",
              "Annual Income (k$)        0\n",
              "Spending Score (1-100)    0\n",
              "dtype: int64"
            ]
          },
          "metadata": {},
          "execution_count": 14
        }
      ]
    },
    {
      "cell_type": "code",
      "source": [
        "#Find the outliers\n",
        "df.skew()"
      ],
      "metadata": {
        "colab": {
          "base_uri": "https://localhost:8080/"
        },
        "id": "IPnAWl2Vb-0H",
        "outputId": "0463dbef-bf3f-43da-b035-34e4c50ea149"
      },
      "execution_count": 15,
      "outputs": [
        {
          "output_type": "stream",
          "name": "stderr",
          "text": [
            "/usr/local/lib/python3.7/dist-packages/ipykernel_launcher.py:2: FutureWarning: Dropping of nuisance columns in DataFrame reductions (with 'numeric_only=None') is deprecated; in a future version this will raise TypeError.  Select only valid columns before calling the reduction.\n",
            "  \n"
          ]
        },
        {
          "output_type": "execute_result",
          "data": {
            "text/plain": [
              "CustomerID                0.000000\n",
              "Age                       0.485569\n",
              "Annual Income (k$)        0.321843\n",
              "Spending Score (1-100)   -0.047220\n",
              "dtype: float64"
            ]
          },
          "metadata": {},
          "execution_count": 15
        }
      ]
    },
    {
      "cell_type": "code",
      "source": [
        "#Split data into dependent and independent variables\n",
        "x=df.iloc[:,3:13].values\n",
        "y=df.iloc[:,13:14].values\n",
        "x.shape"
      ],
      "metadata": {
        "colab": {
          "base_uri": "https://localhost:8080/"
        },
        "id": "VrE48FpDcCRf",
        "outputId": "9cc303b6-433b-45d4-a6b9-952292e6ceec"
      },
      "execution_count": 16,
      "outputs": [
        {
          "output_type": "execute_result",
          "data": {
            "text/plain": [
              "(200, 2)"
            ]
          },
          "metadata": {},
          "execution_count": 16
        }
      ]
    },
    {
      "cell_type": "code",
      "source": [
        "y.shape"
      ],
      "metadata": {
        "colab": {
          "base_uri": "https://localhost:8080/"
        },
        "id": "S8nxpWeucF3I",
        "outputId": "2163816b-6258-44a8-995c-16bb18c13321"
      },
      "execution_count": 17,
      "outputs": [
        {
          "output_type": "execute_result",
          "data": {
            "text/plain": [
              "(200, 0)"
            ]
          },
          "metadata": {},
          "execution_count": 17
        }
      ]
    },
    {
      "cell_type": "code",
      "source": [
        "#Categorical colums and encoding\n",
        "from sklearn.compose import ColumnTransformer\n",
        "from sklearn.preprocessing import OneHotEncoder\n",
        "ct=ColumnTransformer([(\"oh\",OneHotEncoder(),[1,2])],remainder=\"passthrough\")\n",
        "x=ct.fit_transform(x)\n",
        "x.shape"
      ],
      "metadata": {
        "id": "MTZA-eb8cI90"
      },
      "execution_count": null,
      "outputs": []
    },
    {
      "cell_type": "code",
      "source": [
        "df[\"Gender\"].unique()"
      ],
      "metadata": {
        "colab": {
          "base_uri": "https://localhost:8080/"
        },
        "id": "ujD-uaLzcgG2",
        "outputId": "9e62acbe-9639-45cb-970e-fc2d8adf0b18"
      },
      "execution_count": 24,
      "outputs": [
        {
          "output_type": "execute_result",
          "data": {
            "text/plain": [
              "array(['Male', 'Female'], dtype=object)"
            ]
          },
          "metadata": {},
          "execution_count": 24
        }
      ]
    },
    {
      "cell_type": "code",
      "source": [
        "#Split the data into training and testing\n",
        "from sklearn.model_selection import train_test_split\n",
        "x_train,x_test,y_train,y_test=train_test_split(x,y,test_size=0.2,random_state=0)\n",
        "x_train.shape"
      ],
      "metadata": {
        "colab": {
          "base_uri": "https://localhost:8080/"
        },
        "id": "gMg2C72zckIk",
        "outputId": "01fb4322-980a-4215-f821-4e4bb1f5b83a"
      },
      "execution_count": 25,
      "outputs": [
        {
          "output_type": "execute_result",
          "data": {
            "text/plain": [
              "(160, 2)"
            ]
          },
          "metadata": {},
          "execution_count": 25
        }
      ]
    },
    {
      "cell_type": "code",
      "source": [
        "x_test.shape"
      ],
      "metadata": {
        "colab": {
          "base_uri": "https://localhost:8080/"
        },
        "id": "v-A9qQlMcnH-",
        "outputId": "07e77b91-2ad2-4454-aec7-d96f8f13217f"
      },
      "execution_count": 26,
      "outputs": [
        {
          "output_type": "execute_result",
          "data": {
            "text/plain": [
              "(40, 2)"
            ]
          },
          "metadata": {},
          "execution_count": 26
        }
      ]
    },
    {
      "cell_type": "code",
      "source": [
        "#Scale the independent variables\n",
        "X = df.iloc[:, :-1].values\n",
        "print(X)"
      ],
      "metadata": {
        "colab": {
          "base_uri": "https://localhost:8080/"
        },
        "id": "RRXhCM8zcppJ",
        "outputId": "f1b08b2a-333b-4ec8-af95-3a26dc40475e"
      },
      "execution_count": 27,
      "outputs": [
        {
          "output_type": "stream",
          "name": "stdout",
          "text": [
            "[[1 'Male' 19 15]\n",
            " [2 'Male' 21 15]\n",
            " [3 'Female' 20 16]\n",
            " [4 'Female' 23 16]\n",
            " [5 'Female' 31 17]\n",
            " [6 'Female' 22 17]\n",
            " [7 'Female' 35 18]\n",
            " [8 'Female' 23 18]\n",
            " [9 'Male' 64 19]\n",
            " [10 'Female' 30 19]\n",
            " [11 'Male' 67 19]\n",
            " [12 'Female' 35 19]\n",
            " [13 'Female' 58 20]\n",
            " [14 'Female' 24 20]\n",
            " [15 'Male' 37 20]\n",
            " [16 'Male' 22 20]\n",
            " [17 'Female' 35 21]\n",
            " [18 'Male' 20 21]\n",
            " [19 'Male' 52 23]\n",
            " [20 'Female' 35 23]\n",
            " [21 'Male' 35 24]\n",
            " [22 'Male' 25 24]\n",
            " [23 'Female' 46 25]\n",
            " [24 'Male' 31 25]\n",
            " [25 'Female' 54 28]\n",
            " [26 'Male' 29 28]\n",
            " [27 'Female' 45 28]\n",
            " [28 'Male' 35 28]\n",
            " [29 'Female' 40 29]\n",
            " [30 'Female' 23 29]\n",
            " [31 'Male' 60 30]\n",
            " [32 'Female' 21 30]\n",
            " [33 'Male' 53 33]\n",
            " [34 'Male' 18 33]\n",
            " [35 'Female' 49 33]\n",
            " [36 'Female' 21 33]\n",
            " [37 'Female' 42 34]\n",
            " [38 'Female' 30 34]\n",
            " [39 'Female' 36 37]\n",
            " [40 'Female' 20 37]\n",
            " [41 'Female' 65 38]\n",
            " [42 'Male' 24 38]\n",
            " [43 'Male' 48 39]\n",
            " [44 'Female' 31 39]\n",
            " [45 'Female' 49 39]\n",
            " [46 'Female' 24 39]\n",
            " [47 'Female' 50 40]\n",
            " [48 'Female' 27 40]\n",
            " [49 'Female' 29 40]\n",
            " [50 'Female' 31 40]\n",
            " [51 'Female' 49 42]\n",
            " [52 'Male' 33 42]\n",
            " [53 'Female' 31 43]\n",
            " [54 'Male' 59 43]\n",
            " [55 'Female' 50 43]\n",
            " [56 'Male' 47 43]\n",
            " [57 'Female' 51 44]\n",
            " [58 'Male' 69 44]\n",
            " [59 'Female' 27 46]\n",
            " [60 'Male' 53 46]\n",
            " [61 'Male' 70 46]\n",
            " [62 'Male' 19 46]\n",
            " [63 'Female' 67 47]\n",
            " [64 'Female' 54 47]\n",
            " [65 'Male' 63 48]\n",
            " [66 'Male' 18 48]\n",
            " [67 'Female' 43 48]\n",
            " [68 'Female' 68 48]\n",
            " [69 'Male' 19 48]\n",
            " [70 'Female' 32 48]\n",
            " [71 'Male' 70 49]\n",
            " [72 'Female' 47 49]\n",
            " [73 'Female' 60 50]\n",
            " [74 'Female' 60 50]\n",
            " [75 'Male' 59 54]\n",
            " [76 'Male' 26 54]\n",
            " [77 'Female' 45 54]\n",
            " [78 'Male' 40 54]\n",
            " [79 'Female' 23 54]\n",
            " [80 'Female' 49 54]\n",
            " [81 'Male' 57 54]\n",
            " [82 'Male' 38 54]\n",
            " [83 'Male' 67 54]\n",
            " [84 'Female' 46 54]\n",
            " [85 'Female' 21 54]\n",
            " [86 'Male' 48 54]\n",
            " [87 'Female' 55 57]\n",
            " [88 'Female' 22 57]\n",
            " [89 'Female' 34 58]\n",
            " [90 'Female' 50 58]\n",
            " [91 'Female' 68 59]\n",
            " [92 'Male' 18 59]\n",
            " [93 'Male' 48 60]\n",
            " [94 'Female' 40 60]\n",
            " [95 'Female' 32 60]\n",
            " [96 'Male' 24 60]\n",
            " [97 'Female' 47 60]\n",
            " [98 'Female' 27 60]\n",
            " [99 'Male' 48 61]\n",
            " [100 'Male' 20 61]\n",
            " [101 'Female' 23 62]\n",
            " [102 'Female' 49 62]\n",
            " [103 'Male' 67 62]\n",
            " [104 'Male' 26 62]\n",
            " [105 'Male' 49 62]\n",
            " [106 'Female' 21 62]\n",
            " [107 'Female' 66 63]\n",
            " [108 'Male' 54 63]\n",
            " [109 'Male' 68 63]\n",
            " [110 'Male' 66 63]\n",
            " [111 'Male' 65 63]\n",
            " [112 'Female' 19 63]\n",
            " [113 'Female' 38 64]\n",
            " [114 'Male' 19 64]\n",
            " [115 'Female' 18 65]\n",
            " [116 'Female' 19 65]\n",
            " [117 'Female' 63 65]\n",
            " [118 'Female' 49 65]\n",
            " [119 'Female' 51 67]\n",
            " [120 'Female' 50 67]\n",
            " [121 'Male' 27 67]\n",
            " [122 'Female' 38 67]\n",
            " [123 'Female' 40 69]\n",
            " [124 'Male' 39 69]\n",
            " [125 'Female' 23 70]\n",
            " [126 'Female' 31 70]\n",
            " [127 'Male' 43 71]\n",
            " [128 'Male' 40 71]\n",
            " [129 'Male' 59 71]\n",
            " [130 'Male' 38 71]\n",
            " [131 'Male' 47 71]\n",
            " [132 'Male' 39 71]\n",
            " [133 'Female' 25 72]\n",
            " [134 'Female' 31 72]\n",
            " [135 'Male' 20 73]\n",
            " [136 'Female' 29 73]\n",
            " [137 'Female' 44 73]\n",
            " [138 'Male' 32 73]\n",
            " [139 'Male' 19 74]\n",
            " [140 'Female' 35 74]\n",
            " [141 'Female' 57 75]\n",
            " [142 'Male' 32 75]\n",
            " [143 'Female' 28 76]\n",
            " [144 'Female' 32 76]\n",
            " [145 'Male' 25 77]\n",
            " [146 'Male' 28 77]\n",
            " [147 'Male' 48 77]\n",
            " [148 'Female' 32 77]\n",
            " [149 'Female' 34 78]\n",
            " [150 'Male' 34 78]\n",
            " [151 'Male' 43 78]\n",
            " [152 'Male' 39 78]\n",
            " [153 'Female' 44 78]\n",
            " [154 'Female' 38 78]\n",
            " [155 'Female' 47 78]\n",
            " [156 'Female' 27 78]\n",
            " [157 'Male' 37 78]\n",
            " [158 'Female' 30 78]\n",
            " [159 'Male' 34 78]\n",
            " [160 'Female' 30 78]\n",
            " [161 'Female' 56 79]\n",
            " [162 'Female' 29 79]\n",
            " [163 'Male' 19 81]\n",
            " [164 'Female' 31 81]\n",
            " [165 'Male' 50 85]\n",
            " [166 'Female' 36 85]\n",
            " [167 'Male' 42 86]\n",
            " [168 'Female' 33 86]\n",
            " [169 'Female' 36 87]\n",
            " [170 'Male' 32 87]\n",
            " [171 'Male' 40 87]\n",
            " [172 'Male' 28 87]\n",
            " [173 'Male' 36 87]\n",
            " [174 'Male' 36 87]\n",
            " [175 'Female' 52 88]\n",
            " [176 'Female' 30 88]\n",
            " [177 'Male' 58 88]\n",
            " [178 'Male' 27 88]\n",
            " [179 'Male' 59 93]\n",
            " [180 'Male' 35 93]\n",
            " [181 'Female' 37 97]\n",
            " [182 'Female' 32 97]\n",
            " [183 'Male' 46 98]\n",
            " [184 'Female' 29 98]\n",
            " [185 'Female' 41 99]\n",
            " [186 'Male' 30 99]\n",
            " [187 'Female' 54 101]\n",
            " [188 'Male' 28 101]\n",
            " [189 'Female' 41 103]\n",
            " [190 'Female' 36 103]\n",
            " [191 'Female' 34 103]\n",
            " [192 'Female' 32 103]\n",
            " [193 'Male' 33 113]\n",
            " [194 'Female' 38 113]\n",
            " [195 'Female' 47 120]\n",
            " [196 'Female' 35 120]\n",
            " [197 'Female' 45 126]\n",
            " [198 'Male' 32 126]\n",
            " [199 'Male' 32 137]\n",
            " [200 'Male' 30 137]]\n"
          ]
        }
      ]
    },
    {
      "cell_type": "code",
      "source": [
        "import joblib\n",
        "joblib.dump(ct,\"Mall_Customers.pkl\")"
      ],
      "metadata": {
        "colab": {
          "base_uri": "https://localhost:8080/"
        },
        "id": "4PhrrbtXctfv",
        "outputId": "5fb65c6c-f87e-4f81-ad67-325ac2426abe"
      },
      "execution_count": 28,
      "outputs": [
        {
          "output_type": "execute_result",
          "data": {
            "text/plain": [
              "['Mall_Customers.pkl']"
            ]
          },
          "metadata": {},
          "execution_count": 28
        }
      ]
    },
    {
      "cell_type": "code",
      "source": [
        "#Split the data into training and testing \n",
        "from sklearn.model_selection import train_test_split\n",
        "\n",
        "train, test = train_test_split(df, test_size=0.2)\n",
        "#print(train)\n",
        "#print(test)"
      ],
      "metadata": {
        "id": "jMxiPnAFc8kW"
      },
      "execution_count": null,
      "outputs": []
    },
    {
      "cell_type": "code",
      "source": [
        "# Build the Model \n",
        "my_dict=pd.read_csv(\"/Mall_Customers.csv\")\n",
        "df = pd.DataFrame(my_dict)\n",
        "print(df)"
      ],
      "metadata": {
        "colab": {
          "base_uri": "https://localhost:8080/"
        },
        "id": "OR9v21KMc-Vk",
        "outputId": "700b0b5f-7fcc-4b06-eb14-2f8439cad750"
      },
      "execution_count": 31,
      "outputs": [
        {
          "output_type": "stream",
          "name": "stdout",
          "text": [
            "     CustomerID  Gender  Age  Annual Income (k$)  Spending Score (1-100)\n",
            "0             1    Male   19                  15                      39\n",
            "1             2    Male   21                  15                      81\n",
            "2             3  Female   20                  16                       6\n",
            "3             4  Female   23                  16                      77\n",
            "4             5  Female   31                  17                      40\n",
            "..          ...     ...  ...                 ...                     ...\n",
            "195         196  Female   35                 120                      79\n",
            "196         197  Female   45                 126                      28\n",
            "197         198    Male   32                 126                      74\n",
            "198         199    Male   32                 137                      18\n",
            "199         200    Male   30                 137                      83\n",
            "\n",
            "[200 rows x 5 columns]\n"
          ]
        }
      ]
    },
    {
      "cell_type": "code",
      "source": [
        "#  Build the Model \n",
        "import csv\n",
        "with open(\"/Mall_Customers.csv\") as csv_file:\n",
        "    csv_reader = csv.reader(csv_file)\n",
        "    df = pd.DataFrame([csv_reader], index = None)\n",
        "for val in list(df[1]):\n",
        "    print(val)"
      ],
      "metadata": {
        "colab": {
          "base_uri": "https://localhost:8080/"
        },
        "id": "c16Tx-pBdUrD",
        "outputId": "d6d89310-61a2-49f4-8ca6-bd88432fc200"
      },
      "execution_count": 32,
      "outputs": [
        {
          "output_type": "stream",
          "name": "stdout",
          "text": [
            "['1', 'Male', '19', '15', '39']\n"
          ]
        }
      ]
    },
    {
      "cell_type": "code",
      "source": [
        "# Training and Testing Module \n",
        "from sklearn.model_selection import train_test_split\n",
        "\n",
        "train, test = train_test_split(df, test_size=0.2)\n",
        "print(train)\n",
        "print(test)"
      ],
      "metadata": {
        "id": "VPkR9wrodaW5"
      },
      "execution_count": null,
      "outputs": []
    },
    {
      "cell_type": "code",
      "source": [
        "#Measure the performance using matrics\n",
        "from __future__ import print_function\n",
        "\n",
        "import pandas as pd\n",
        "path = \"/abalone.csv\"\n",
        "merged = pd.read_csv(path, error_bad_lines=False, low_memory=False)\n",
        "\n",
        "X = merged.text\n",
        "y = merged.grid\n",
        "\n",
        "from sklearn.feature_extraction.text import CountVectorizer\n",
        "vect = CountVectorizer()\n",
        "\n",
        "X_train_dtm = vect.fit_transform(X_train)\n",
        "X_test_dtm = vect.transform(X_test)\n",
        "\n",
        "from sklearn.naive_bayes import MultinomialNB\n",
        "nb = MultinomialNB()\n",
        "\n",
        "nb.fit(X_train_dtm, y_train)\n",
        "\n",
        "y_pred_class = nb.predict(X_test_dtm)\n",
        "\n",
        "from sklearn import metrics\n",
        "print(metrics.classification_report(y_test, y_pred_class))"
      ],
      "metadata": {
        "id": "iUgT7hZIdcN6"
      },
      "execution_count": null,
      "outputs": []
    }
  ]
}